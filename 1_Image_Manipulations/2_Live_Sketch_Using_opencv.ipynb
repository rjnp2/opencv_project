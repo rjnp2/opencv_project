{
 "cells": [
  {
   "cell_type": "markdown",
   "metadata": {},
   "source": [
    "#  Live Sketch Using opencv project\n"
   ]
  },
  {
   "cell_type": "code",
   "execution_count": 3,
   "metadata": {},
   "outputs": [],
   "source": [
    "import cv2\n",
    "import numpy as np"
   ]
  },
  {
   "cell_type": "code",
   "execution_count": 12,
   "metadata": {},
   "outputs": [],
   "source": [
    "# Initialize webcam, cap is the object provided by VideoCapture\n",
    "# It contains a boolean indicating if it was sucessful (ret)\n",
    "# It also contains the images collected from the webcam (frame)\n",
    "cap = cv2.VideoCapture(0)\n",
    "\n",
    "try:\n",
    "    while(True):\n",
    "        _, frame = cap.read()  \n",
    "        frame = cv2.flip(frame,1)\n",
    "        \n",
    "        if frame is not None:\n",
    "        \n",
    "            # Convert image to grayscale\n",
    "            img_gray = cv2.cvtColor(frame, cv2.COLOR_BGR2GRAY)\n",
    "\n",
    "            # Clean up image using Guassian Blur\n",
    "            img_gray_blur = cv2.GaussianBlur(img_gray, (5,5), 0)\n",
    "\n",
    "            # Extract edges\n",
    "            canny_edges = cv2.Canny(img_gray_blur, 30, 60)\n",
    "\n",
    "            # Do an invert binarize the image \n",
    "            ret, mask = cv2.threshold(canny_edges, 70, 240, cv2.THRESH_BINARY_INV)\n",
    "\n",
    "            cv2.imshow('Our Live Sketcher', canny_edges)\n",
    "            cv2.imshow('Our Live', frame)\n",
    "       \n",
    "            if cv2.waitKey(1) & 0xff == ord('q'):\n",
    "                break\n",
    "finally:\n",
    "    cap.release()\n",
    "    cv2.destroyAllWindows()"
   ]
  },
  {
   "cell_type": "code",
   "execution_count": 26,
   "metadata": {},
   "outputs": [],
   "source": [
    "def dodge(img_gray_blur,img_gray):\n",
    "    result=img_gray_blur* (255/(255-img_gray)) \n",
    "    result[result>255]=255\n",
    "    result[img_gray==255]=255\n",
    "    return result.astype('uint8')"
   ]
  },
  {
   "cell_type": "code",
   "execution_count": 27,
   "metadata": {},
   "outputs": [],
   "source": [
    "# Initialize webcam, cap is the object provided by VideoCapture\n",
    "# It contains a boolean indicating if it was sucessful (ret)\n",
    "# It also contains the images collected from the webcam (frame)\n",
    "cap = cv2.VideoCapture(0)\n",
    "\n",
    "try:\n",
    "    while(True):\n",
    "        _, frame = cap.read()  \n",
    "        frame = cv2.flip(frame,1)\n",
    "        \n",
    "        if frame is not None:\n",
    "        \n",
    "            # Convert image to grayscale\n",
    "            img_gray = cv2.cvtColor(frame, cv2.COLOR_BGR2GRAY)\n",
    "            \n",
    "            inverse_gray = 255 - img_gray\n",
    "            \n",
    "            # Clean up image using Guassian Blur\n",
    "            img_gray_blur = cv2.GaussianBlur(inverse_gray, (5,5), 0)\n",
    "            \n",
    "            mask= dodge(img_gray_blur,img_gray)\n",
    "            \n",
    "            cv2.imshow('Our Live Sketcher', mask)\n",
    "       \n",
    "            if cv2.waitKey(1) & 0xff == ord('q'):\n",
    "                break\n",
    "finally:\n",
    "    cap.release()\n",
    "    cv2.destroyAllWindows()"
   ]
  },
  {
   "cell_type": "code",
   "execution_count": null,
   "metadata": {},
   "outputs": [],
   "source": []
  }
 ],
 "metadata": {
  "kernelspec": {
   "display_name": "Python 3",
   "language": "python",
   "name": "python3"
  },
  "language_info": {
   "codemirror_mode": {
    "name": "ipython",
    "version": 3
   },
   "file_extension": ".py",
   "mimetype": "text/x-python",
   "name": "python",
   "nbconvert_exporter": "python",
   "pygments_lexer": "ipython3",
   "version": "3.8.3"
  }
 },
 "nbformat": 4,
 "nbformat_minor": 4
}
